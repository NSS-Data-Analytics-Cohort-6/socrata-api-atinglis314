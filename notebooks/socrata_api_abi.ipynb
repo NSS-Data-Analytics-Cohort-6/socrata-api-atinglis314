{
 "cells": [
  {
   "cell_type": "code",
   "execution_count": null,
   "id": "771cbb4b",
   "metadata": {},
   "outputs": [],
   "source": [
    "pip install sodapy"
   ]
  },
  {
   "cell_type": "code",
   "execution_count": null,
   "id": "15e33172",
   "metadata": {},
   "outputs": [],
   "source": [
    "import requests\n",
    "import json\n",
    "import pandas as pd\n",
    "import matplotlib.pyplot as plt\n",
    "import sodapy\n",
    "from sodapy import Socrata"
   ]
  },
  {
   "cell_type": "markdown",
   "id": "70379d69",
   "metadata": {},
   "source": [
    "# Top 500 Monthly Searches"
   ]
  },
  {
   "cell_type": "markdown",
   "id": "69dfc080",
   "metadata": {},
   "source": [
    "The below uses the requests package just so I can have a preview of what I'm looking for with the other method"
   ]
  },
  {
   "cell_type": "code",
   "execution_count": null,
   "id": "f67f38bd",
   "metadata": {},
   "outputs": [],
   "source": [
    "endpoint = 'https://data.nashville.gov/resource/fuaa-r5cm.json'\n",
    "response = requests.get(endpoint)"
   ]
  },
  {
   "cell_type": "code",
   "execution_count": null,
   "id": "d22466f3",
   "metadata": {},
   "outputs": [],
   "source": [
    "response"
   ]
  },
  {
   "cell_type": "code",
   "execution_count": null,
   "id": "1b59e3f2",
   "metadata": {},
   "outputs": [],
   "source": [
    "response.text"
   ]
  },
  {
   "cell_type": "code",
   "execution_count": null,
   "id": "66acd1e9",
   "metadata": {},
   "outputs": [],
   "source": [
    "response.json"
   ]
  },
  {
   "cell_type": "markdown",
   "id": "fe2d1775",
   "metadata": {},
   "source": [
    "Truth be told, I'm not totally sure why this looks different from the other example, but that's okay!"
   ]
  },
  {
   "cell_type": "code",
   "execution_count": null,
   "id": "de57a221",
   "metadata": {},
   "outputs": [],
   "source": [
    "#coming back later to say I figured out why -- I forgot the () after the .json"
   ]
  },
  {
   "cell_type": "markdown",
   "id": "3530ad5b",
   "metadata": {},
   "source": [
    "I was just informed that the \"examples don't use the requests package\" does not mean that I can't use the requests package so... back to requests! "
   ]
  },
  {
   "cell_type": "markdown",
   "id": "44ee3844",
   "metadata": {},
   "source": [
    "# QUESTION 1"
   ]
  },
  {
   "cell_type": "markdown",
   "id": "958b00d4",
   "metadata": {},
   "source": [
    "### Make an API request that returns the months where \"fire\" was searched in 2016. Which month had the most searches?"
   ]
  },
  {
   "cell_type": "code",
   "execution_count": null,
   "id": "8ef259b6",
   "metadata": {},
   "outputs": [],
   "source": [
    "q1 = requests.get(endpoint+'?year=2016&query_text=fire&$limit=50000')\n",
    "q1"
   ]
  },
  {
   "cell_type": "code",
   "execution_count": null,
   "id": "7f771787",
   "metadata": {},
   "outputs": [],
   "source": [
    "q1.text"
   ]
  },
  {
   "cell_type": "code",
   "execution_count": null,
   "id": "6762d783",
   "metadata": {},
   "outputs": [],
   "source": [
    "q1j = q1.json()\n",
    "q1j"
   ]
  },
  {
   "cell_type": "markdown",
   "id": "8847b0d4",
   "metadata": {},
   "source": [
    "Okay, so at a glance I can see that August had the most searches, but I want to see if I can get it ordered... I believe I could turn it into a pandas DataFrame, but I want to try to get it with the API request alone."
   ]
  },
  {
   "cell_type": "code",
   "execution_count": null,
   "id": "2c9f9a6c",
   "metadata": {},
   "outputs": [],
   "source": [
    "#credit to Katie and Phil who figured this out simultaneously\n",
    "q1ordered = requests.get(endpoint+'?year=2016&query_text=fire&$order= query_count DESC')\n",
    "q1jordered = q1ordered.json()\n",
    "q1jordered"
   ]
  },
  {
   "cell_type": "markdown",
   "id": "92c4711d",
   "metadata": {},
   "source": [
    "### question 1 answer: August had the most searches for \"fire\" in 2016 with 47 searches."
   ]
  },
  {
   "cell_type": "markdown",
   "id": "96b5158a",
   "metadata": {},
   "source": [
    "# QUESTION 2"
   ]
  },
  {
   "cell_type": "markdown",
   "id": "08eb2d27",
   "metadata": {},
   "source": [
    "### Make an API request that returns all the times a query was run more than 100 times in a month. How many times did this occur?"
   ]
  },
  {
   "cell_type": "code",
   "execution_count": null,
   "id": "341496cd",
   "metadata": {},
   "outputs": [],
   "source": [
    "#unsuccessful attempt -- query_count was a successful parameter for the ordering clause in the last question, but not this apparently\n",
    "q2 = requests.get(endpoint+'?query_count>100')\n",
    "q2j = q2.json()\n",
    "q2j"
   ]
  },
  {
   "cell_type": "code",
   "execution_count": null,
   "id": "ae1ca475",
   "metadata": {},
   "outputs": [],
   "source": [
    "q2 = requests.get(endpoint+'?$where= query_count > 100&$limit=50000')\n",
    "q2j = q2.json()\n",
    "q2j"
   ]
  },
  {
   "cell_type": "code",
   "execution_count": null,
   "id": "9bd29546",
   "metadata": {},
   "outputs": [],
   "source": [
    "q2jlength = len(q2j)\n",
    "q2jlength"
   ]
  },
  {
   "cell_type": "markdown",
   "id": "b3c87322",
   "metadata": {},
   "source": [
    "<old answer when I hadn't included the limit = 50000 parameter was 1,000>\n",
    "I am truthfully surprised that this is such an even number, but the other people in my breakout room got this answer too, so... I am inclined to trust it."
   ]
  },
  {
   "cell_type": "markdown",
   "id": "c444a0cd",
   "metadata": {},
   "source": [
    "new note: it's not 1,000 anymore"
   ]
  },
  {
   "cell_type": "markdown",
   "id": "1191a215",
   "metadata": {},
   "source": [
    "### question 2 answer: there were 1,262 times in the dataset where a query was run more than 100 times in a month."
   ]
  },
  {
   "cell_type": "markdown",
   "id": "818b152b",
   "metadata": {},
   "source": [
    "# QUESTION 3"
   ]
  },
  {
   "cell_type": "markdown",
   "id": "596748e4",
   "metadata": {},
   "source": [
    "### Make another API request that returns all the times \"codes\" was searched more than 100 times in a month. How many times did this occur?"
   ]
  },
  {
   "cell_type": "code",
   "execution_count": null,
   "id": "dfc949ed",
   "metadata": {},
   "outputs": [],
   "source": [
    "q3 = requests.get(endpoint+'?query_text=codes&$where= query_count > 100&$limit=50000')\n",
    "q3j = q3.json()\n",
    "q3j"
   ]
  },
  {
   "cell_type": "code",
   "execution_count": null,
   "id": "a83fbd86",
   "metadata": {},
   "outputs": [],
   "source": [
    "q3jlength = len(q3j)\n",
    "q3jlength"
   ]
  },
  {
   "cell_type": "markdown",
   "id": "27aa9ab8",
   "metadata": {},
   "source": [
    "### question 3 answer: there were 56 times in the dataset where \"codes\" was searched more than 100 times in a month."
   ]
  },
  {
   "cell_type": "markdown",
   "id": "2b04e4a1",
   "metadata": {},
   "source": [
    "# QUESTION 4 -- take 1"
   ]
  },
  {
   "cell_type": "markdown",
   "id": "570d1ca2",
   "metadata": {},
   "source": [
    "### Make an API request that returns the entire Top 500 Monthly Searches dataset. Make a chart that shows the number of times \"maps\" was searched in a month across the entire time frame."
   ]
  },
  {
   "cell_type": "code",
   "execution_count": null,
   "id": "b9e87d6a",
   "metadata": {},
   "outputs": [],
   "source": [
    "#all of this ended up being incorrect and useless (other than learning purposes), so rather than delete it all, I'm going to convert it all to markdown for future reference"
   ]
  },
  {
   "cell_type": "markdown",
   "id": "03b82238",
   "metadata": {},
   "source": [
    "q4 = requests.get(endpoint)\n",
    "q4j = q4.json()\n",
    "q4j"
   ]
  },
  {
   "cell_type": "markdown",
   "id": "7f6b799c",
   "metadata": {},
   "source": [
    "#I'm not sure if this is going to be helpful but I'm going to try to make a DataFrame"
   ]
  },
  {
   "cell_type": "markdown",
   "id": "8a1232f5",
   "metadata": {},
   "source": [
    "q4df = pd.DataFrame(q4j)\n",
    "q4df"
   ]
  },
  {
   "cell_type": "markdown",
   "id": "fec4a0be",
   "metadata": {},
   "source": [
    "len(q4df)"
   ]
  },
  {
   "cell_type": "markdown",
   "id": "dd0b1b99",
   "metadata": {},
   "source": [
    "len(q4j)"
   ]
  },
  {
   "cell_type": "markdown",
   "id": "4601fb4e",
   "metadata": {},
   "source": [
    "q4df.info()"
   ]
  },
  {
   "cell_type": "markdown",
   "id": "9724ade4",
   "metadata": {},
   "source": [
    "maps_query = ['maps']\n",
    "maps = q4df[q4df.query_text.isin(maps_query)]\n",
    "maps"
   ]
  },
  {
   "cell_type": "markdown",
   "id": "4d084fe6",
   "metadata": {},
   "source": [
    "#that cannot possibly be right"
   ]
  },
  {
   "cell_type": "markdown",
   "id": "4f08526f",
   "metadata": {},
   "source": [
    "maps2 = q4df[q4df.query_text.str.contains('maps')]\n",
    "maps2"
   ]
  },
  {
   "cell_type": "markdown",
   "id": "48ff8197",
   "metadata": {},
   "source": [
    "len(maps2)"
   ]
  },
  {
   "cell_type": "code",
   "execution_count": null,
   "id": "0e87f542",
   "metadata": {},
   "outputs": [],
   "source": [
    "#that feels better, but not...great..."
   ]
  },
  {
   "cell_type": "markdown",
   "id": "03957778",
   "metadata": {},
   "source": [
    "OKAY. I just realized that there is a default limit of 1000 records, which in hindsight should have been obvious but WE ARE LEARNING, but I can override the limit with the $limit parameter. The data.nashville.gov page with the top 500 search results dataset says there are 43.7K rows in this dataset, so I'm going to try to just have limit=50k and see if it doesn't take 5 hours to load."
   ]
  },
  {
   "cell_type": "markdown",
   "id": "d11c6d6b",
   "metadata": {},
   "source": [
    "q4 = requests.get(endpoint+'?$limit=50000')\n",
    "q4j = q4.json()\n",
    "q4j"
   ]
  },
  {
   "cell_type": "markdown",
   "id": "b0071087",
   "metadata": {},
   "source": [
    "len(q4j)"
   ]
  },
  {
   "cell_type": "markdown",
   "id": "ecb85f6d",
   "metadata": {},
   "source": [
    "#nice."
   ]
  },
  {
   "cell_type": "markdown",
   "id": "f7e8e84d",
   "metadata": {},
   "source": [
    "q4df = pd.DataFrame(q4j)\n",
    "q4df"
   ]
  },
  {
   "cell_type": "markdown",
   "id": "6528edba",
   "metadata": {},
   "source": [
    "maps = q4df[q4df.query_text.isin(maps_query)]\n",
    "maps"
   ]
  },
  {
   "cell_type": "markdown",
   "id": "28d63dfc",
   "metadata": {},
   "source": [
    "maps[\"month_year\"] = maps['month_name'] + \" \" + maps['year']\n",
    "maps"
   ]
  },
  {
   "cell_type": "markdown",
   "id": "cef9c0bd",
   "metadata": {},
   "source": [
    "#going to dig into that warning message a bit more later, but for now, it looks like it did what I wanted, so I'm moving on"
   ]
  },
  {
   "cell_type": "markdown",
   "id": "7377db76",
   "metadata": {},
   "source": [
    "plt.figure(figsize=(15, 10))\n",
    "plt.yticks()\n",
    "plt.plot(maps['month_year'], maps['query_count'])\n",
    "plt.show"
   ]
  },
  {
   "cell_type": "markdown",
   "id": "d00448b9",
   "metadata": {},
   "source": [
    "#that's... weird. and the yticks are not in numerical order, and it's not a formatting issue..."
   ]
  },
  {
   "cell_type": "markdown",
   "id": "c4802898",
   "metadata": {},
   "source": [
    "q4df.describe()"
   ]
  },
  {
   "cell_type": "markdown",
   "id": "a9381e21",
   "metadata": {},
   "source": [
    "#why isn't it giving me numeric details? wait I bet they're all stored as strings "
   ]
  },
  {
   "cell_type": "markdown",
   "id": "b6920bf4",
   "metadata": {},
   "source": [
    "q4df.info()"
   ]
  },
  {
   "cell_type": "markdown",
   "id": "50e5bf1b",
   "metadata": {},
   "source": [
    "#I was right oop... plus I don't have the month-year column I want so rewind a bit"
   ]
  },
  {
   "cell_type": "markdown",
   "id": "32b53bbc",
   "metadata": {},
   "source": [
    "q4df[\"month_year\"] = q4df['month_name'] + \" \" + q4df['year']"
   ]
  },
  {
   "cell_type": "markdown",
   "id": "8a42f170",
   "metadata": {},
   "source": [
    "q4df_dropped = q4df.dropna()"
   ]
  },
  {
   "cell_type": "markdown",
   "id": "90810ed8",
   "metadata": {},
   "source": [
    "q4df_dropped.astype({'year':'int32', 'query_count':'int32'}).dtypes #ran error, need to drop NaN rows, added cell above"
   ]
  },
  {
   "cell_type": "markdown",
   "id": "f1f6cdf9",
   "metadata": {},
   "source": [
    "maps = q4df_dropped[q4df_dropped.query_text.isin(maps_query)]\n",
    "maps"
   ]
  },
  {
   "cell_type": "markdown",
   "id": "9f2b9dc5",
   "metadata": {},
   "source": [
    "maps.describe()"
   ]
  },
  {
   "cell_type": "markdown",
   "id": "b2b79aaf",
   "metadata": {},
   "source": [
    "#again?...\n",
    "maps.info()"
   ]
  },
  {
   "cell_type": "markdown",
   "id": "55f19cc9",
   "metadata": {},
   "source": [
    "maps.astype({'year':'int32', 'query_count':'int32'}).dtypes"
   ]
  },
  {
   "cell_type": "markdown",
   "id": "092879f6",
   "metadata": {},
   "source": [
    "maps.info()"
   ]
  },
  {
   "cell_type": "markdown",
   "id": "a92ae9fc",
   "metadata": {},
   "source": [
    "plt.figure(figsize=(15, 10))\n",
    "plt.plot(maps['month_year'], maps['query_count'])\n",
    "plt.show"
   ]
  },
  {
   "cell_type": "markdown",
   "id": "7e967a83",
   "metadata": {},
   "source": [
    "# QUESTION 4 RESTART\n",
    "##### now that I know a bunch more than I did, but it got messy, I'm starting this question over. I'll go back and fix the other questions with the limit=50k thing, too."
   ]
  },
  {
   "cell_type": "code",
   "execution_count": null,
   "id": "dc0ab91e",
   "metadata": {},
   "outputs": [],
   "source": [
    "q4 = requests.get(endpoint+'?$limit=50000')\n",
    "q4j = q4.json()\n",
    "q4j"
   ]
  },
  {
   "cell_type": "code",
   "execution_count": null,
   "id": "4ca7465e",
   "metadata": {},
   "outputs": [],
   "source": [
    "q4df = pd.DataFrame(q4j)\n",
    "q4df"
   ]
  },
  {
   "cell_type": "code",
   "execution_count": null,
   "id": "320388d9",
   "metadata": {},
   "outputs": [],
   "source": [
    "q4df.info()"
   ]
  },
  {
   "cell_type": "code",
   "execution_count": null,
   "id": "be69e8d8",
   "metadata": {},
   "outputs": [],
   "source": [
    "q4df['month_year'] = q4df['month_name'] + \" \" + q4df['year']\n",
    "q4df"
   ]
  },
  {
   "cell_type": "code",
   "execution_count": null,
   "id": "ec2b2a1c",
   "metadata": {},
   "outputs": [],
   "source": [
    "q4df.info()"
   ]
  },
  {
   "cell_type": "code",
   "execution_count": null,
   "id": "ab0221f2",
   "metadata": {},
   "outputs": [],
   "source": [
    "q4df[['year','query_count']] = q4df[['year','query_count']].apply(pd.to_numeric)\n",
    "print(q4df.dtypes)"
   ]
  },
  {
   "cell_type": "code",
   "execution_count": null,
   "id": "42eee02c",
   "metadata": {},
   "outputs": [],
   "source": [
    "maps_query = ['maps']\n",
    "maps = q4df[q4df.query_text.isin(maps_query)]\n",
    "maps"
   ]
  },
  {
   "cell_type": "code",
   "execution_count": null,
   "id": "8177e76b",
   "metadata": {},
   "outputs": [],
   "source": [
    "maps.info()"
   ]
  },
  {
   "cell_type": "code",
   "execution_count": null,
   "id": "ad79a158",
   "metadata": {},
   "outputs": [],
   "source": [
    "plt.figure(figsize=(25, 10))\n",
    "plt.bar(maps['month_year'], maps['query_count'])\n",
    "plt.title('Count of Search \"Maps\" By Month')\n",
    "plt.ylabel('Query Count')\n",
    "plt.xticks(rotation=60)\n",
    "plt.show"
   ]
  },
  {
   "cell_type": "code",
   "execution_count": null,
   "id": "f266a085",
   "metadata": {},
   "outputs": [],
   "source": [
    "#the point of this project is not to make gorgeous gorgeous graphs so I'm going to call this adequate for now :)"
   ]
  },
  {
   "cell_type": "markdown",
   "id": "0b1c7770",
   "metadata": {},
   "source": [
    "# STRETCH QUESTIONS"
   ]
  },
  {
   "cell_type": "markdown",
   "id": "3fadbea3",
   "metadata": {},
   "source": [
    "# QUESTION 5\n",
    "### Make an API request to pull back all the data from hubNashville (311) Service Requests (check to see how many rows you can return in a single request). Compare it to the Top 500 Monthly Searches data set. What do you observe? (This is open-ended, there isn't a specific answer for this one)"
   ]
  },
  {
   "cell_type": "code",
   "execution_count": null,
   "id": "cec2994e",
   "metadata": {},
   "outputs": [],
   "source": [
    "#so I believe I have SoDaPy 2.1 installed, which should have no upper limit... let's give it a try."
   ]
  },
  {
   "cell_type": "code",
   "execution_count": null,
   "id": "d6925d19",
   "metadata": {},
   "outputs": [],
   "source": [
    "endpoint2 = 'https://data.nashville.gov/resource/7qhx-rexh.json'\n",
    "q5 = requests.get(endpoint2+'?$limit=950000')\n",
    "q5j = q5.json()\n",
    "q5j"
   ]
  },
  {
   "cell_type": "code",
   "execution_count": null,
   "id": "3000a939",
   "metadata": {
    "scrolled": true
   },
   "outputs": [],
   "source": [
    "#converting to a DataFrame just to make sure my understanding of how to read a JSON is correct, for learning purposes\n",
    "q5df = pd.DataFrame(q5j)\n",
    "q5df"
   ]
  },
  {
   "cell_type": "code",
   "execution_count": null,
   "id": "e299bb1d",
   "metadata": {},
   "outputs": [],
   "source": [
    "q5df.info()"
   ]
  },
  {
   "cell_type": "markdown",
   "id": "2ebbd6ad",
   "metadata": {},
   "source": [
    "### question 5 answer:"
   ]
  },
  {
   "cell_type": "markdown",
   "id": "8afd82db",
   "metadata": {},
   "source": [
    "I already knew this dataset was significantly larger than the top 500 monthly searches set, but that is true in both dimensions of the output; there are over 930,000 rows, and 34 columns, while the other only had 5 columns. This one has more data types, as well; there are the appearance of boolean fields (although the entire DF is actually strings, but let's pretend for a bit). This dataset also has a native indexing system of sorts, since each row has a unique identifier assigned. This is geographical data, and appears to be compatible with geospatial mapping."
   ]
  },
  {
   "cell_type": "markdown",
   "id": "f7604876",
   "metadata": {},
   "source": [
    "# QUESTION 6\n",
    "### Find 2 new data sets on data.nashville.gov, make API requests to pull the data, and do an analysis that combines the data sets."
   ]
  },
  {
   "cell_type": "code",
   "execution_count": null,
   "id": "3b676b72",
   "metadata": {},
   "outputs": [],
   "source": [
    "#building permits issued\n",
    "permits = 'https://data.nashville.gov/resource/3h5w-q8b7.json'\n",
    "#tornado siren locations\n",
    "sirens = 'https://data.nashville.gov/resource/736j-2drk.json'"
   ]
  },
  {
   "cell_type": "code",
   "execution_count": null,
   "id": "059c003f",
   "metadata": {},
   "outputs": [],
   "source": [
    "q6permits = requests.get(permits+'?$limit=50000')\n",
    "q6permitsj = q6permits.json()\n",
    "q6permitsj"
   ]
  },
  {
   "cell_type": "code",
   "execution_count": null,
   "id": "cd3eb969",
   "metadata": {},
   "outputs": [],
   "source": [
    "q6sirens = requests.get(sirens+'?$limit=50000')\n",
    "q6sirensj = q6sirens.json()\n",
    "q6sirensj"
   ]
  },
  {
   "cell_type": "code",
   "execution_count": null,
   "id": "99f3c92b",
   "metadata": {},
   "outputs": [],
   "source": [
    "permitsdf = pd.DataFrame(q6permitsj)\n",
    "permitsdf"
   ]
  },
  {
   "cell_type": "code",
   "execution_count": null,
   "id": "87631a88",
   "metadata": {},
   "outputs": [],
   "source": [
    "sirensdf = pd.DataFrame(q6sirensj)\n",
    "sirensdf"
   ]
  },
  {
   "cell_type": "code",
   "execution_count": null,
   "id": "5f6dd43a",
   "metadata": {},
   "outputs": [],
   "source": [
    "permits_zip = permitsdf.zip.value_counts()\n",
    "permits_zip = pd.DataFrame(permits_zip)\n",
    "permits_zip.reset_index(inplace=True)\n",
    "permits_zip.columns = ['Zip', 'Permit_Count']\n",
    "permits_zip"
   ]
  },
  {
   "cell_type": "code",
   "execution_count": null,
   "id": "545b66e5",
   "metadata": {},
   "outputs": [],
   "source": [
    "sirens_zip = sirensdf.zip.value_counts()\n",
    "sirens_zip = pd.DataFrame(sirens_zip)\n",
    "sirens_zip.reset_index(inplace=True)\n",
    "sirens_zip.columns = ['Zip', 'Siren_Count']\n",
    "sirens_zip"
   ]
  },
  {
   "cell_type": "code",
   "execution_count": null,
   "id": "82a80e87",
   "metadata": {},
   "outputs": [],
   "source": [
    "combined = pd.merge(permits_zip, sirens_zip, on=['Zip'], how='outer')\n",
    "combined"
   ]
  },
  {
   "cell_type": "code",
   "execution_count": null,
   "id": "c6201325",
   "metadata": {
    "scrolled": true
   },
   "outputs": [],
   "source": [
    "combined = combined.fillna(0)\n",
    "combined"
   ]
  },
  {
   "cell_type": "markdown",
   "id": "9cf54e70",
   "metadata": {},
   "source": [
    "##### I want to filter this to zipcodes with 0 tornado sirens, and could in theory move into the geospatial ecosystem and make a map, but would probably just make some sort of chart. Either way, I ran out of class time. I'll be back!"
   ]
  }
 ],
 "metadata": {
  "kernelspec": {
   "display_name": "Python 3 (ipykernel)",
   "language": "python",
   "name": "python3"
  },
  "language_info": {
   "codemirror_mode": {
    "name": "ipython",
    "version": 3
   },
   "file_extension": ".py",
   "mimetype": "text/x-python",
   "name": "python",
   "nbconvert_exporter": "python",
   "pygments_lexer": "ipython3",
   "version": "3.9.7"
  }
 },
 "nbformat": 4,
 "nbformat_minor": 5
}
